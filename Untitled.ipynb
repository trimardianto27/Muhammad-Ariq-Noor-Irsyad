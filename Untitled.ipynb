{
  "nbformat": 4,
  "nbformat_minor": 0,
  "metadata": {
    "colab": {
      "name": "Untitled0.ipynb",
      "provenance": [],
      "collapsed_sections": [],
      "authorship_tag": "ABX9TyPj9eldkpdo0fRjOiohvS2s",
      "include_colab_link": true
    },
    "kernelspec": {
      "name": "python3",
      "display_name": "Python 3"
    }
  },
  "cells": [
    {
      "cell_type": "markdown",
      "metadata": {
        "id": "view-in-github",
        "colab_type": "text"
      },
      "source": [
        "<a href=\"https://colab.research.google.com/github/imronassidiqi/Pseudocode/blob/main/Untitled.ipynb\" target=\"_parent\"><img src=\"https://colab.research.google.com/assets/colab-badge.svg\" alt=\"Open In Colab\"/></a>"
      ]
    },
    {
      "cell_type": "code",
      "metadata": {
        "id": "EFRUbk1lotga",
        "outputId": "0c62b3fc-c262-4dee-bcf3-5cb14241dc06",
        "colab": {
          "base_uri": "https://localhost:8080/"
        }
      },
      "source": [
        "\n",
        "#Program Penjumlahan Dua Bilangan dan kudadratnya\n",
        "# Meminta inputan dari user \n",
        "bil1 = input('Masukkan bilangan pertama: ') \n",
        "bil2 = input('Masukkan bilangan kedua: ') \n",
        "\n",
        "# Menjumlahkan bilangan \n",
        "c = float(bil1) + float(bil2)\n",
        "hasil = c * c\n",
        "\n",
        "# Menampilkan jumlah \n",
        "print('HASIL  {0} + {1} adalah {2}'.format(bil1, bil2, hasil))"
      ],
      "execution_count": 6,
      "outputs": [
        {
          "output_type": "stream",
          "text": [
            "Masukkan bilangan pertama: 5\n",
            "Masukkan bilangan kedua: 4\n",
            "HASIL  5 + 4 adalah 81.0\n"
          ],
          "name": "stdout"
        }
      ]
    }
  ]
} 
